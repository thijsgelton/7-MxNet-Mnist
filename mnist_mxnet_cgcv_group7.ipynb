{
  "nbformat": 4,
  "nbformat_minor": 0,
  "metadata": {
    "colab": {
      "name": "mnist_mxnet_cgcv_group7.ipynb",
      "provenance": [],
      "collapsed_sections": [],
      "authorship_tag": "ABX9TyNsUaMOq5ZRhEINxg9M9wCj",
      "include_colab_link": true
    },
    "kernelspec": {
      "name": "python3",
      "display_name": "Python 3"
    },
    "language_info": {
      "name": "python"
    },
    "accelerator": "GPU"
  },
  "cells": [
    {
      "cell_type": "markdown",
      "metadata": {
        "id": "view-in-github",
        "colab_type": "text"
      },
      "source": [
        "<a href=\"https://colab.research.google.com/github/thijsgelton/7-MxNet-Mnist/blob/main/mnist_mxnet_cgcv_group7.ipynb\" target=\"_parent\"><img src=\"https://colab.research.google.com/assets/colab-badge.svg\" alt=\"Open In Colab\"/></a>"
      ]
    },
    {
      "cell_type": "code",
      "metadata": {
        "colab": {
          "base_uri": "https://localhost:8080/"
        },
        "id": "v08v906NTLXz",
        "outputId": "497d22de-833b-4f12-f638-371b484f23f9"
      },
      "source": [
        "!pip install requests mxnet-cu100"
      ],
      "execution_count": null,
      "outputs": [
        {
          "output_type": "stream",
          "text": [
            "Requirement already satisfied: requests in /usr/local/lib/python3.7/dist-packages (2.23.0)\n",
            "Collecting mxnet-cu100\n",
            "\u001b[?25l  Downloading https://files.pythonhosted.org/packages/85/09/a13d45136ce70589cceee4081f485f8f47fc5eb716d07981d4c2547763df/mxnet_cu100-1.8.0.post0-py2.py3-none-manylinux2014_x86_64.whl (352.6MB)\n",
            "\u001b[K     |████████████████████████████████| 352.6MB 51kB/s \n",
            "\u001b[?25hRequirement already satisfied: idna<3,>=2.5 in /usr/local/lib/python3.7/dist-packages (from requests) (2.10)\n",
            "Requirement already satisfied: chardet<4,>=3.0.2 in /usr/local/lib/python3.7/dist-packages (from requests) (3.0.4)\n",
            "Requirement already satisfied: urllib3!=1.25.0,!=1.25.1,<1.26,>=1.21.1 in /usr/local/lib/python3.7/dist-packages (from requests) (1.24.3)\n",
            "Requirement already satisfied: certifi>=2017.4.17 in /usr/local/lib/python3.7/dist-packages (from requests) (2020.12.5)\n",
            "Collecting graphviz<0.9.0,>=0.8.1\n",
            "  Downloading https://files.pythonhosted.org/packages/53/39/4ab213673844e0c004bed8a0781a0721a3f6bb23eb8854ee75c236428892/graphviz-0.8.4-py2.py3-none-any.whl\n",
            "Requirement already satisfied: numpy<2.0.0,>1.16.0 in /usr/local/lib/python3.7/dist-packages (from mxnet-cu100) (1.19.5)\n",
            "Installing collected packages: graphviz, mxnet-cu100\n",
            "  Found existing installation: graphviz 0.10.1\n",
            "    Uninstalling graphviz-0.10.1:\n",
            "      Successfully uninstalled graphviz-0.10.1\n",
            "Successfully installed graphviz-0.8.4 mxnet-cu100-1.8.0.post0\n"
          ],
          "name": "stdout"
        }
      ]
    },
    {
      "cell_type": "code",
      "metadata": {
        "id": "P7VLZ2jaSx6E"
      },
      "source": [
        "import mxnet as mx"
      ],
      "execution_count": null,
      "outputs": []
    },
    {
      "cell_type": "code",
      "metadata": {
        "id": "Gaov0Ej0TcPx"
      },
      "source": [
        "mnist = mx.test_utils.get_mnist()"
      ],
      "execution_count": null,
      "outputs": []
    },
    {
      "cell_type": "code",
      "metadata": {
        "id": "KoId2GUpT0RU"
      },
      "source": [
        "batch_size = 100\n",
        "train_data = mx.io.NDArrayIter(mnist['train_data'], mnist['train_label'], batch_size, shuffle=True)\n",
        "val_data = mx.io.NDArrayIter(mnist['test_data'], mnist['test_label'], batch_size)"
      ],
      "execution_count": null,
      "outputs": []
    },
    {
      "cell_type": "code",
      "metadata": {
        "id": "7IDTkTyuT7Wo"
      },
      "source": [
        "from __future__ import print_function\n",
        "import mxnet as mx\n",
        "from mxnet import gluon\n",
        "from mxnet.gluon import nn\n",
        "from mxnet import autograd as ag\n",
        "import mxnet.ndarray as F"
      ],
      "execution_count": null,
      "outputs": []
    },
    {
      "cell_type": "code",
      "metadata": {
        "id": "O8ESjFqmUABy"
      },
      "source": [
        "class ConvNet(nn.Block):\n",
        "  \n",
        "  def __init__(self, **kwargs):\n",
        "    super(ConvNet, self).__init__(**kwargs)\n",
        "    self.conv1 = nn.Conv2D(20, kernel_size=(5,5))\n",
        "    self.pool1 = nn.MaxPool2D(pool_size=(2,2), strides=(2,2)) # No learnable parameters so can just use 1 maxpool\n",
        "    self.conv2 = nn.Conv2D(50, kernel_size=(5, 5))\n",
        "    self.fc1 = nn.Dense(500)\n",
        "    self.fc2 = nn.Dense(10)\n",
        "\n",
        "  def forward(self, x):\n",
        "    x = self.pool1(F.tanh(self.conv1(x)))\n",
        "    x = self.pool1(F.tanh(self.conv2(x)))\n",
        "\n",
        "    x = x.reshape((0, -1))\n",
        "    x = F.tanh(self.fc1(x))\n",
        "    x = F.tanh(self.fc2(x))\n",
        "    return x"
      ],
      "execution_count": null,
      "outputs": []
    },
    {
      "cell_type": "code",
      "metadata": {
        "id": "mYaUtoU_UFoS"
      },
      "source": [
        "conv_net = ConvNet()"
      ],
      "execution_count": null,
      "outputs": []
    },
    {
      "cell_type": "code",
      "metadata": {
        "id": "E34ZicBeaI_Z"
      },
      "source": [
        "ctx = [mx.gpu() if mx.test_utils.list_gpus() else mx.cpu()]"
      ],
      "execution_count": null,
      "outputs": []
    },
    {
      "cell_type": "code",
      "metadata": {
        "id": "9OnML3nDWnsW"
      },
      "source": [
        "with mx.Context(ctx[0]):\n",
        "  gpu_array = mx.nd.ones((2, 3))"
      ],
      "execution_count": null,
      "outputs": []
    },
    {
      "cell_type": "code",
      "metadata": {
        "colab": {
          "base_uri": "https://localhost:8080/"
        },
        "id": "IbYoZY64XfKe",
        "outputId": "e9f0c057-079c-4b5d-bc1d-b0736faac2e7"
      },
      "source": [
        "gpu_array.context"
      ],
      "execution_count": null,
      "outputs": [
        {
          "output_type": "execute_result",
          "data": {
            "text/plain": [
              "gpu(0)"
            ]
          },
          "metadata": {
            "tags": []
          },
          "execution_count": 38
        }
      ]
    },
    {
      "cell_type": "code",
      "metadata": {
        "id": "z_BOctr3X_bA"
      },
      "source": [
        "with mx.Context(ctx[0]):\n",
        "  conv_net.initialize(mx.init.Xavier(magnitude=2.24), force_reinit=True)\n",
        "  trainer = gluon.Trainer(conv_net.collect_params(), 'sgd', {'learning_rate': 0.03, 'wd': 0.001})"
      ],
      "execution_count": null,
      "outputs": []
    },
    {
      "cell_type": "code",
      "metadata": {
        "id": "3g4L2MO5Yxrf"
      },
      "source": [
        "epoch = 20"
      ],
      "execution_count": null,
      "outputs": []
    },
    {
      "cell_type": "code",
      "metadata": {
        "colab": {
          "base_uri": "https://localhost:8080/"
        },
        "id": "sK51tIQMYeUI",
        "outputId": "ad0ace05-a9ec-4293-cb29-f3afd874a533"
      },
      "source": [
        "metric = mx.metric.Accuracy()\n",
        "criterion = gluon.loss.SoftmaxCrossEntropyLoss()\n",
        "\n",
        "for i in range(epoch):\n",
        "\n",
        "  train_data.reset()\n",
        "  for batch in train_data:\n",
        "    data = gluon.utils.split_and_load(batch.data[0], ctx_list=ctx)\n",
        "    label = gluon.utils.split_and_load(batch.label[0], ctx_list=ctx)\n",
        "\n",
        "    outputs = []\n",
        "    with ag.record():\n",
        "      for x, y in zip(data, label):\n",
        "        output = conv_net(x)\n",
        "        loss = criterion(output, y)\n",
        "\n",
        "        loss.backward() # Compute gradients\n",
        "        outputs.append(output)\n",
        "    metric.update(label, outputs)\n",
        "    trainer.step(batch.data[0].shape[0])\n",
        "  name, acc = metric.get()\n",
        "  metric.reset()\n",
        "  print(f\"Training accuracy at epoch {i}: {name}={acc:.2f}\")\n"
      ],
      "execution_count": null,
      "outputs": [
        {
          "output_type": "stream",
          "text": [
            "Training accuracy at epoch 0: accuracy=0.85\n",
            "Training accuracy at epoch 1: accuracy=0.94\n",
            "Training accuracy at epoch 2: accuracy=0.95\n",
            "Training accuracy at epoch 3: accuracy=0.96\n",
            "Training accuracy at epoch 4: accuracy=0.97\n",
            "Training accuracy at epoch 5: accuracy=0.97\n",
            "Training accuracy at epoch 6: accuracy=0.97\n",
            "Training accuracy at epoch 7: accuracy=0.98\n",
            "Training accuracy at epoch 8: accuracy=0.98\n",
            "Training accuracy at epoch 9: accuracy=0.98\n",
            "Training accuracy at epoch 10: accuracy=0.98\n",
            "Training accuracy at epoch 11: accuracy=0.98\n",
            "Training accuracy at epoch 12: accuracy=0.98\n",
            "Training accuracy at epoch 13: accuracy=0.98\n",
            "Training accuracy at epoch 14: accuracy=0.98\n",
            "Training accuracy at epoch 15: accuracy=0.98\n",
            "Training accuracy at epoch 16: accuracy=0.98\n",
            "Training accuracy at epoch 17: accuracy=0.98\n",
            "Training accuracy at epoch 18: accuracy=0.98\n",
            "Training accuracy at epoch 19: accuracy=0.99\n"
          ],
          "name": "stdout"
        }
      ]
    },
    {
      "cell_type": "code",
      "metadata": {
        "colab": {
          "base_uri": "https://localhost:8080/"
        },
        "id": "03HklvF6a8hz",
        "outputId": "96063dfa-0dfa-4826-a8b4-f3988f442a2a"
      },
      "source": [
        "metric = mx.metric.Accuracy()\n",
        "val_data.reset()\n",
        "for batch in val_data:\n",
        "    data = gluon.utils.split_and_load(batch.data[0], ctx_list=ctx)\n",
        "    label = gluon.utils.split_and_load(batch.label[0], ctx_list=ctx)\n",
        "    outputs = []\n",
        "    for x in data:\n",
        "        outputs.append(conv_net(x))\n",
        "    metric.update(label, outputs)\n",
        "print('validation acc: %s=%f'%metric.get())\n",
        "assert metric.get()[1] > 0.98"
      ],
      "execution_count": null,
      "outputs": [
        {
          "output_type": "stream",
          "text": [
            "validation acc: accuracy=0.985300\n"
          ],
          "name": "stdout"
        }
      ]
    }
  ]
}